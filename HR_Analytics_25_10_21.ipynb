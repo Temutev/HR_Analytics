{
  "nbformat": 4,
  "nbformat_minor": 0,
  "metadata": {
    "colab": {
      "name": "HR-Analytics 25-10-21.ipynb",
      "private_outputs": true,
      "provenance": []
    },
    "kernelspec": {
      "name": "python3",
      "display_name": "Python 3"
    },
    "language_info": {
      "name": "python"
    }
  },
  "cells": [
    {
      "cell_type": "code",
      "metadata": {
        "id": "DQN4bHpT4DGA"
      },
      "source": [
        "import pandas as pd \n",
        "import numpy as np \n",
        "\n",
        "from google.colab import drive\n",
        "drive.mount('/content/gdrive')"
      ],
      "execution_count": null,
      "outputs": []
    },
    {
      "cell_type": "code",
      "metadata": {
        "id": "vK17sbiE4OLr"
      },
      "source": [
        "#load our datasets \n",
        "train = pd.read_csv('/content/gdrive/My Drive/analyticsvidhya/hranalytics/train.csv')\n",
        "test = pd.read_csv('/content/gdrive/My Drive/analyticsvidhya/hranalytics/test.csv')\n",
        "submission = pd.read_csv('/content/gdrive/My Drive/analyticsvidhya/hranalytics/submission.csv')"
      ],
      "execution_count": null,
      "outputs": []
    },
    {
      "cell_type": "code",
      "metadata": {
        "id": "eq9PYpu240Z4"
      },
      "source": [
        "train.head()"
      ],
      "execution_count": null,
      "outputs": []
    },
    {
      "cell_type": "code",
      "metadata": {
        "id": "Ftmw9Z3f42Kg"
      },
      "source": [
        "ntrain = train.shape[0]\n",
        "ntest = test.shape[0]\n",
        "all_data = pd.concat((train,test)).reset_index(drop=True)\n",
        "print(f'The shape of the combined dataframe is: {all_data.shape}')"
      ],
      "execution_count": null,
      "outputs": []
    },
    {
      "cell_type": "code",
      "metadata": {
        "id": "FG9I-_qZ5V-D"
      },
      "source": [
        "all_data.info()"
      ],
      "execution_count": null,
      "outputs": []
    },
    {
      "cell_type": "code",
      "metadata": {
        "id": "1EXThtn75ax1"
      },
      "source": [
        "all_train.describe().T\n"
      ],
      "execution_count": null,
      "outputs": []
    },
    {
      "cell_type": "code",
      "metadata": {
        "id": "jSVvY_gP5ilR"
      },
      "source": [
        "all_train.describe(include=['O']).T"
      ],
      "execution_count": null,
      "outputs": []
    },
    {
      "cell_type": "code",
      "metadata": {
        "id": "k8M4s_i-7szT"
      },
      "source": [
        "all_data.isnull().sum()"
      ],
      "execution_count": null,
      "outputs": []
    },
    {
      "cell_type": "code",
      "metadata": {
        "id": "TV4N0Qjs8MTz"
      },
      "source": [
        "import seaborn as sns \n",
        "sns.countplot(all_data.is_promoted)"
      ],
      "execution_count": null,
      "outputs": []
    },
    {
      "cell_type": "code",
      "metadata": {
        "id": "ntxlfRnN8qQ9"
      },
      "source": [
        "# class is heavily imbalanced \n",
        "all_data['education'] = all_data['education'].fillna(all_data['education'].mode()[0])\n",
        "all_data['previous_year_rating'] = all_data['previous_year_rating'].fillna(all_data['previous_year_rating'].mode()[0])\n",
        "all_data['is_promoted'] = all_data['is_promoted'].fillna(0)"
      ],
      "execution_count": null,
      "outputs": []
    },
    {
      "cell_type": "code",
      "metadata": {
        "id": "Ks-oV8H6-BC8"
      },
      "source": [
        "pip install category_encoders"
      ],
      "execution_count": null,
      "outputs": []
    },
    {
      "cell_type": "code",
      "metadata": {
        "id": "8-FEQel5-EAZ"
      },
      "source": [
        "pip install catboost"
      ],
      "execution_count": null,
      "outputs": []
    },
    {
      "cell_type": "code",
      "metadata": {
        "id": "pUk9IuWJGs8U"
      },
      "source": [
        "all_data.drop(['employee_id'], 1, inplace = True)"
      ],
      "execution_count": null,
      "outputs": []
    },
    {
      "cell_type": "code",
      "metadata": {
        "id": "9kuSy56WGMtO"
      },
      "source": [
        "region = all_data.groupby('region').mean()\n",
        "region.drop('is_promoted', 1, inplace = True)\n",
        "cols = []\n",
        "for i in region.columns:\n",
        "    if i != 'region':\n",
        "        region[i+'_reg_mean_all'] = region[i]\n",
        "        region.drop(i, 1, inplace = True)\n",
        "        cols.append(i+'_reg_mean_all')\n",
        "\n",
        "data = pd.merge(all_data, region, on='region', how = 'left')\n",
        "for col in cols: data[col+'_freq'] = data[col].map(data[col].value_counts().to_dict())/len(data)"
      ],
      "execution_count": null,
      "outputs": []
    },
    {
      "cell_type": "code",
      "metadata": {
        "id": "sQYJKrUWGh1c"
      },
      "source": [
        "data.head()"
      ],
      "execution_count": null,
      "outputs": []
    },
    {
      "cell_type": "code",
      "metadata": {
        "id": "rviNVhwM-Fw2"
      },
      "source": [
        "import category_encoders as ce\n",
        "from sklearn.model_selection import train_test_split\n",
        "\n",
        "X_train, X_test, y_train, y_test = train_test_split(data, data['is_promoted'], test_size=0.3,\n",
        "                                                    random_state=0)\n",
        "X_train.shape, X_test.shape\n",
        "\n",
        "ord_enc = ce.OrdinalEncoder(cols=['department','region','education','gender','recruitment_channel']).fit(X_train,y_train)\n",
        "\n",
        "\n",
        "data = ord_enc.transform(data)\n",
        "data.head()\n",
        "\n",
        "main_cols =data.columns.difference(['is_promoted'])\n",
        "\n"
      ],
      "execution_count": null,
      "outputs": []
    },
    {
      "cell_type": "code",
      "metadata": {
        "id": "4nTbh2uVHkNE"
      },
      "source": [
        "\n",
        "\n",
        "train = data[:ntrain].copy()\n",
        "#train.drop_duplicates(inplace = True, ignore_index=True)\n",
        "target = train.is_promoted.copy()\n",
        "train.drop('is_promoted', axis=1, inplace=True)\n",
        "\n",
        "test = data[ntrain:].copy()\n",
        "test.drop('is_promoted', axis=1, inplace=True)\n",
        "test = test.reset_index(drop=True)"
      ],
      "execution_count": null,
      "outputs": []
    },
    {
      "cell_type": "code",
      "metadata": {
        "id": "aEeEJsBrBcWa"
      },
      "source": [
        "class func() :   \n",
        "    def __init__(self, train, label, test, model, model_type, random_state):\n",
        "        self.train, self.label, self.test = train, label, test\n",
        "        self.model, self.model_type = model, model_type\n",
        "        self.random_state = random_state\n",
        "        \n",
        "        assert self.model_type in ('catboost', 'xgboost', 'lgbm'), 'Incorrect model_type'\n",
        "    def __call__(self, plot = True):\n",
        "        return self.fit(plot)\n",
        "\n",
        "    def fit(self, plot):\n",
        "        def catboost_fit(X_train, X_test, y_train, y_test):\n",
        "            self.model.fit(X_train,y_train,eval_set=[(X_test,y_test)],early_stopping_rounds=500,\n",
        "                           verbose=50,use_best_model=True)\n",
        "            x_test_predict = self.model.predict_proba(X_test)[:,1]\n",
        "            x_train_predict = self.model.predict_proba(X_train)[:,1]\n",
        "            self.val_p[test_index] = x_test_predict\n",
        "            self.test_p += self.model.predict_proba(self.test)[:,1]\n",
        "            return x_test_predict, x_train_predict\n",
        "\n",
        "        def xgboost_fit(X_train, X_test, y_train, y_test):\n",
        "            self.model.fit(X_train, y_train, early_stopping_rounds = 30, eval_metric=\"auc\",\n",
        "                           eval_set=[(X_test, y_test)], verbose = True)\n",
        "            x_test_predict = self.model.predict_proba(X_test, ntree_limit = self.model.get_booster().best_ntree_limit)[:,1]\n",
        "            x_train_predict = self.model.predict_proba(X_train, ntree_limit = self.model.get_booster().best_ntree_limit)[:,1]\n",
        "            self.val_p[test_index] = x_test_predict\n",
        "            self.test_p += self.model.predict_proba(self.test, ntree_limit = self.model.get_booster().best_ntree_limit)[:,1]\n",
        "            return x_test_predict, x_train_predict\n",
        "\n",
        "        def lgbm_fit(X_train, X_test, y_train, y_test):\n",
        "            self.model.fit(X_train, y_train, early_stopping_rounds = 30, eval_metric=\"auc\",\n",
        "                           eval_set=[(X_test, y_test)], verbose = True)\n",
        "            x_test_predict = self.model.predict_proba(X_test, num_iteration = self.model.best_iteration_)[:,1]\n",
        "            x_train_predict = self.model.predict_proba(X_train, num_iteration = self.model.best_iteration_)[:,1]\n",
        "            self.val_p[test_index] = x_test_predict\n",
        "            self.test_p += self.model.predict_proba(self.test, num_iteration = self.model.best_iteration_)[:,1]\n",
        "            return x_test_predict, x_train_predict\n",
        "\n",
        "\n",
        "        self.val_p = np.zeros(self.train.shape[0])\n",
        "        mean_val = []\n",
        "        mean_train = []\n",
        "        self.test_p = np.zeros(self.test.shape[0])\n",
        "        splits = 5\n",
        "        kf = StratifiedKFold(n_splits = splits)\n",
        "        for fold_count, (train_index, test_index) in enumerate(kf.split(self.train, self.label)):\n",
        "            X_train,X_test = self.train.iloc[train_index],self.train.iloc[test_index]\n",
        "            y_train,y_test = self.label.iloc[train_index],self.label.iloc[test_index]\n",
        "\n",
        "            print(f\"================================Fold{fold_count+1}====================================\")\n",
        "            if self.model_type == 'catboost': x_test_predict, x_train_predict = catboost_fit(X_train, X_test, y_train, y_test)\n",
        "            elif self.model_type == 'xgboost': x_test_predict, x_train_predict = xgboost_fit(X_train, X_test, y_train, y_test)\n",
        "            elif self.model_type == 'lgbm': x_test_predict, x_train_predict = lgbm_fit(X_train, X_test, y_train, y_test)\n",
        "\n",
        "            print('\\nValidation scores', roc_auc_score(y_test, x_test_predict), log_loss(y_test, x_test_predict))\n",
        "            print('Training scores', roc_auc_score(y_train, x_train_predict), log_loss(y_train, x_train_predict))\n",
        "            mean_val.append(roc_auc_score(y_test, x_test_predict))\n",
        "            mean_train.append(roc_auc_score(y_train, x_train_predict))\n",
        "\n",
        "        if plot:\n",
        "            feat_imp = pd.DataFrame(sorted(zip(self.model.feature_importances_,self.train.columns)), columns=['Value','Feature'])\n",
        "            plt.figure(figsize=(30,25))\n",
        "            sns.barplot(x=\"Value\", y=\"Feature\", data=feat_imp.sort_values(by=\"Value\", ascending=False))\n",
        "            plt.ylabel('Feature Importance Score')\n",
        "            plt.show()\n",
        "        print(np.mean(mean_val), np.mean(mean_train), np.std(mean_val))\n",
        "        return self.val_p, self.test_p/splits, self.model"
      ],
      "execution_count": null,
      "outputs": []
    },
    {
      "cell_type": "code",
      "metadata": {
        "id": "GyYZKMcKE9jj"
      },
      "source": [
        "train.head()"
      ],
      "execution_count": null,
      "outputs": []
    },
    {
      "cell_type": "code",
      "metadata": {
        "id": "S-4kd1vQB3a8"
      },
      "source": [
        "lgb_model = LGBMClassifier(objective =  'binary', \n",
        "                            metric= 'auc',\n",
        "                            boosting_type= 'gbdt')\n",
        "\n",
        "func_= func(train, target, test, lgb_model, 'lgbm', 1000)\n",
        "val_p3, test_p3, model3 = func_()"
      ],
      "execution_count": null,
      "outputs": []
    },
    {
      "cell_type": "code",
      "metadata": {
        "id": "aeB5dfbACESl"
      },
      "source": [
        "\n",
        "catboost = CatBoostClassifier(n_estimators=10000, eval_metric='AUC')\n",
        "\n",
        "func_= func(train, target, test, catboost, 'catboost', 1000)\n",
        "val_p1, test_p1, model1 = func_()"
      ],
      "execution_count": null,
      "outputs": []
    },
    {
      "cell_type": "code",
      "metadata": {
        "id": "2kxbb9t6In6R"
      },
      "source": [
        "\n",
        "xgboost = XGBClassifier()\n",
        "\n",
        "func_= func(train, target, test, xgboost, 'xgboost', 1000)\n",
        "val_p2, test_p2, model2 = func_()"
      ],
      "execution_count": null,
      "outputs": []
    },
    {
      "cell_type": "code",
      "metadata": {
        "id": "WxFHcSdgJvKm"
      },
      "source": [
        "from sklearn.linear_model import  LinearRegression, Ridge, Lasso\n",
        "stack = np.column_stack((val_p1, val_p2, val_p3))\n",
        "stack_p = np.column_stack((test_p1, test_p2, test_p3))\n",
        "predict = LinearRegression().fit(stack, target).predict(stack_p)"
      ],
      "execution_count": null,
      "outputs": []
    },
    {
      "cell_type": "code",
      "metadata": {
        "id": "eN9mw6aWJ5KO"
      },
      "source": [
        "submission['is_promoted'] = predict\n",
        "\n",
        "submission.to_csv('final_predictions.csv',index=False)"
      ],
      "execution_count": null,
      "outputs": []
    },
    {
      "cell_type": "code",
      "metadata": {
        "id": "XofyAcTzJ9dj"
      },
      "source": [
        ""
      ],
      "execution_count": null,
      "outputs": []
    }
  ]
}